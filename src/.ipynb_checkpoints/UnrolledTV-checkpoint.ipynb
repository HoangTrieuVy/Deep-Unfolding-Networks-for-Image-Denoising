{
 "cells": [
  {
   "cell_type": "code",
   "execution_count": 2,
   "metadata": {},
   "outputs": [
    {
     "name": "stdout",
     "output_type": "stream",
     "text": [
      "The autoreload extension is already loaded. To reload it, use:\n",
      "  %reload_ext autoreload\n"
     ]
    }
   ],
   "source": [
    "import numpy as np\n",
    "import torch\n",
    "import torch.nn as nn\n",
    "import torch.nn.functional as F\n",
    "from matplotlib import pyplot\n",
    "import MNISTtools\n",
    "from torchvision.transforms import ToTensor\n",
    "import torchvision.datasets as datasets\n",
    "\n",
    "from PIL import Image\n",
    "import matplotlib.pyplot as plt\n",
    "import nntools as nt\n",
    "%matplotlib notebook\n",
    "\n",
    "%load_ext autoreload\n",
    "%autoreload 2\n",
    "%reload_ext autoreload"
   ]
  },
  {
   "cell_type": "code",
   "execution_count": null,
   "metadata": {},
   "outputs": [],
   "source": [
    "def GradientHor(x):\n",
    "    y=x-np.roll(x,1,axis=1)\n",
    "    y[:,0]=0\n",
    "    return y\n",
    "def GradientVer(x):\n",
    "    y=x-np.roll(x,1,axis=0)\n",
    "    y[0,:]=0\n",
    "    return y\n",
    "def DivHor(x):\n",
    "    N=len(x[0])\n",
    "    y=x-np.roll(x,-1,axis=1)\n",
    "    y[:,0]=-x[:,1]\n",
    "    y[:,N-1]=x[:,N-1]\n",
    "    return y\n",
    "def DivVer(x):\n",
    "    N=len(x)\n",
    "    y=x-np.roll(x,-1,axis=0)\n",
    "    y[0,:]=-x[1,:]\n",
    "    y[N-1,:]=x[N-1,:]\n",
    "    return y\n",
    "def Gradient(x):\n",
    "    y=[]\n",
    "    y.append(GradientHor(x))\n",
    "    y.append(GradientVer(x))\n",
    "    return np.asarray(y)\n",
    "def Div(y):\n",
    "    x=DivHor(y[0])+DivVer(y[1])\n",
    "    return x\n",
    "def prox_L1(x, tau):\n",
    "    return np.sign(x)*np.maximum(np.abs(x)-tau,0)\n",
    "def ProjGradBouleInf(x,l,tau):\n",
    "    temp = x - tau*prox_L1(x/tau, l/tau)\n",
    "    return temp\n"
   ]
  },
  {
   "cell_type": "markdown",
   "metadata": {},
   "source": [
    "In this notebook, our objectif function will be:\n",
    "\n",
    "$$\\underset{x}{\\text{min}} \\frac{1}{2}\\|x-z\\|_2^2 + \\lambda \\|Dx\\|_{1,2}$$\n",
    "\n",
    "equivalently,\n",
    "\n",
    "$$\n",
    "\\begin{align}\n",
    "&\\hat{x} = \\underset{x}{\\text{argmin}}\\frac{1}{2}\\|x-z\\|_2^2+ \\lambda \\|Dx\\|_{1,2}\\\\\n",
    "\\Leftrightarrow 0&\\in \\hat{x} - z + \\lambda D^*\\partial _{\\|\\cdot\\|_{1,2}\\ }(D\\hat{x})\\\\\n",
    "\\end{align}\n",
    "$$\n",
    "\n",
    "\n",
    "in the dual form,\n",
    "\n",
    "$$\\underset{u}{\\text{min}} \\frac{1}{2}\\|z-D^*u\\|^2 + \\iota_{_{\\iota_{\\infty,2}}}(u)$$\n",
    "\n",
    "\n",
    "Forward-Backward iteration:\n",
    "\n",
    "$$u_{k+1} = prox_{\\iota_{\\infty,2}} (D(D^*u-z)) = prox_{\\iota_{\\infty,2}} (DD^*u-Dz)\n",
    "$$\n",
    "\n",
    "$$\\hat{x} = z - D^*\\hat{u} $$"
   ]
  },
  {
   "cell_type": "code",
   "execution_count": null,
   "metadata": {},
   "outputs": [],
   "source": [
    "class NNRegressor(nt.NeuralNetwork):\n",
    "\n",
    "    def __init__(self):\n",
    "        super(NNRegressor, self).__init__()\n",
    "        self.mse= torch.nn.MSE()\n",
    "\n",
    "    def criterion(self, y, d):\n",
    "        return  self.mse(y,d)\n",
    "    \n",
    "class UnrolledFBTV(NNRegressor):\n",
    "\n",
    "    def __init__(self, K, C):\n",
    "        super(UnrolledFBTV, self).__init__()\n",
    "        self.K = K\n",
    "        \n",
    "        self.conv = nn.ModuleList()\n",
    "        \n",
    "        # First layer \n",
    "        self.conv.append(nn.Conv2d(3, C, 3, padding=1))\n",
    "        \n",
    "        # 2->K-1 layer \n",
    "        self.conv.extend([nn.Conv2d(C, C, 3, padding=1) for _ in range(D)])\n",
    "        \n",
    "        # K th layer\n",
    "        self.conv.append(nn.Conv2d(C, 3, 3, padding=1))\n",
    "        \n",
    "        \n",
    "#         self.bn = nn.ModuleList()\n",
    "#         for k in range(D):\n",
    "#             self.bn.append(nn.BatchNorm2d(C, C))\n",
    "            \n",
    "            \n",
    "        self.act = ProjGradBouleInf(TODO)\n",
    "        \n",
    "    def forward(self, x):\n",
    "        D = self.D\n",
    "        h = self.act(self.conv[0](x))\n",
    "        for i in range(D):\n",
    "            h = F.relu(self.bn[i](self.conv[i+1](h)))\n",
    "        y = self.conv[D+1](h) + x\n",
    "        return y"
   ]
  },
  {
   "cell_type": "code",
   "execution_count": null,
   "metadata": {},
   "outputs": [],
   "source": []
  },
  {
   "cell_type": "code",
   "execution_count": null,
   "metadata": {},
   "outputs": [],
   "source": []
  },
  {
   "cell_type": "code",
   "execution_count": null,
   "metadata": {},
   "outputs": [],
   "source": []
  },
  {
   "cell_type": "code",
   "execution_count": null,
   "metadata": {},
   "outputs": [],
   "source": []
  },
  {
   "cell_type": "code",
   "execution_count": null,
   "metadata": {},
   "outputs": [],
   "source": []
  },
  {
   "cell_type": "code",
   "execution_count": null,
   "metadata": {},
   "outputs": [],
   "source": []
  },
  {
   "cell_type": "code",
   "execution_count": null,
   "metadata": {},
   "outputs": [],
   "source": []
  },
  {
   "cell_type": "code",
   "execution_count": null,
   "metadata": {},
   "outputs": [],
   "source": []
  },
  {
   "cell_type": "code",
   "execution_count": null,
   "metadata": {},
   "outputs": [],
   "source": []
  },
  {
   "cell_type": "code",
   "execution_count": null,
   "metadata": {},
   "outputs": [],
   "source": []
  },
  {
   "cell_type": "code",
   "execution_count": null,
   "metadata": {},
   "outputs": [],
   "source": []
  },
  {
   "cell_type": "code",
   "execution_count": null,
   "metadata": {},
   "outputs": [],
   "source": []
  }
 ],
 "metadata": {
  "kernelspec": {
   "display_name": "Python 3",
   "language": "python",
   "name": "python3"
  },
  "language_info": {
   "codemirror_mode": {
    "name": "ipython",
    "version": 3
   },
   "file_extension": ".py",
   "mimetype": "text/x-python",
   "name": "python",
   "nbconvert_exporter": "python",
   "pygments_lexer": "ipython3",
   "version": "3.9.4"
  }
 },
 "nbformat": 4,
 "nbformat_minor": 4
}
